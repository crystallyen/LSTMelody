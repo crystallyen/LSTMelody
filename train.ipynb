{
 "cells": [
  {
   "cell_type": "code",
   "execution_count": 1,
   "metadata": {},
   "outputs": [],
   "source": [
    "import torch\n",
    "import torch.nn as nn\n",
    "from torch.utils.data import DataLoader\n",
    "import torch.nn.functional as F\n",
    "from model import MusicGen\n",
    "from dataset import ShardedDataset\n",
    "from parse_config import Config\n",
    "import os\n",
    "from pathlib import Path\n",
    "\n",
    "from tqdm.auto import tqdm"
   ]
  },
  {
   "cell_type": "code",
   "execution_count": 2,
   "metadata": {},
   "outputs": [],
   "source": [
    "min_drum_pitch = 35\n",
    "max_drum_pitch = 81\n",
    "n_drum_pitches = max_drum_pitch - min_drum_pitch + 1\n",
    "\n",
    "min_pitch = 0\n",
    "max_pitch = 127\n",
    "n_pitches = max_pitch - min_pitch + 1\n",
    "\n",
    "sequence_length = Config.get('design')['sequence_length']\n",
    "n_velocities = 128\n",
    "n_instruments = 4\n",
    "\n",
    "device = torch.device(\"cuda\" if torch.cuda.is_available() else \"cpu\")"
   ]
  },
  {
   "cell_type": "code",
   "execution_count": 3,
   "metadata": {},
   "outputs": [
    {
     "name": "stderr",
     "output_type": "stream",
     "text": [
      "C:\\Users\\aniru\\AppData\\Local\\Temp\\ipykernel_11592\\2647486288.py:7: FutureWarning: You are using `torch.load` with `weights_only=False` (the current default value), which uses the default pickle module implicitly. It is possible to construct malicious pickle data which will execute arbitrary code during unpickling (See https://github.com/pytorch/pytorch/blob/main/SECURITY.md#untrusted-models for more details). In a future release, the default value for `weights_only` will be flipped to `True`. This limits the functions that could be executed during unpickling. Arbitrary objects will no longer be allowed to be loaded via this mode unless they are explicitly allowlisted by the user via `torch.serialization.add_safe_globals`. We recommend you start setting `weights_only=True` for any use case where you don't have full control of the loaded file. Please open an issue on GitHub for any issues related to this experimental feature.\n",
      "  meta = torch.load(meta_path)\n"
     ]
    }
   ],
   "source": [
    "prefix = input(\"Enter the name/prefix of the processed dataset\")\n",
    "root = os.getcwd()\n",
    "shard_path = os.path.join(root, Config.get(\"preprocessing\")['processed_data_path'], prefix)\n",
    "shards = list(Path(shard_path).rglob(\"*.pth\"))\n",
    "shards.sort()\n",
    "meta_path = shards.pop()\n",
    "meta = torch.load(meta_path)"
   ]
  },
  {
   "cell_type": "code",
   "execution_count": null,
   "metadata": {},
   "outputs": [],
   "source": [
    "for shard in shards:\n",
    "  tmp = torch.load(shard)\n",
    "  print(len(tmp))\n",
    "  for song in tmp:\n",
    "    print(song.shape)"
   ]
  },
  {
   "cell_type": "code",
   "execution_count": 4,
   "metadata": {},
   "outputs": [],
   "source": [
    "dataset = ShardedDataset(paths=shards, rel_idxs=meta['rel_idxs'])\n",
    "dataloader = DataLoader(\n",
    "    dataset, \n",
    "    batch_size=5, \n",
    "    shuffle=True,\n",
    "    pin_memory=True\n",
    ")"
   ]
  },
  {
   "cell_type": "code",
   "execution_count": 5,
   "metadata": {},
   "outputs": [],
   "source": [
    "def custom_loss_fn(out, target):\n",
    "    instrument_logits = out[\"instrument\"]\n",
    "    drum_pitch_logits = out[\"drum_pitch\"]\n",
    "    regular_pitch_logits = out[\"regular_pitch\"]\n",
    "    velocity_logits = out[\"velocity\"]\n",
    "    step = out[\"step\"]\n",
    "    duration = out[\"duration\"]\n",
    "\n",
    "    pitch_target = target[:, 0].long()\n",
    "    velocity_target = target[:, 1].long()\n",
    "    duration_target = target[:, 2].unsqueeze(1)\n",
    "    step_target = target[:, 3].unsqueeze(1)\n",
    "    instrument_target = target[:, 4].long()\n",
    "\n",
    "    instrument_loss = F.cross_entropy(instrument_logits, instrument_target)\n",
    "    is_drum = (instrument_target == 0)\n",
    "\n",
    "    drum_pitch_loss = F.cross_entropy(drum_pitch_logits[is_drum], pitch_target[is_drum] - min_drum_pitch) if is_drum.any() else 0\n",
    "    regular_pitch_loss = F.cross_entropy(regular_pitch_logits[~is_drum], pitch_target[~is_drum]) if (~is_drum).any() else 0\n",
    "    pitch_loss = drum_pitch_loss + regular_pitch_loss\n",
    "\n",
    "    # Velocity loss\n",
    "    velocity_loss = F.cross_entropy(velocity_logits, velocity_target)\n",
    "\n",
    "    # Step and duration loss (MSE)\n",
    "    step_loss = F.mse_loss(step, step_target)\n",
    "    duration_loss = F.mse_loss(duration, duration_target)\n",
    "\n",
    "    # Total loss\n",
    "    total_loss = instrument_loss + pitch_loss + velocity_loss + step_loss + duration_loss\n",
    "    return total_loss"
   ]
  },
  {
   "cell_type": "code",
   "execution_count": 7,
   "metadata": {},
   "outputs": [
    {
     "data": {
      "application/vnd.jupyter.widget-view+json": {
       "model_id": "ef1e3690fdb04228acb081e84ac0a1f6",
       "version_major": 2,
       "version_minor": 0
      },
      "text/plain": [
       "  0%|          | 0/1940 [00:00<?, ?it/s]"
      ]
     },
     "metadata": {},
     "output_type": "display_data"
    },
    {
     "name": "stderr",
     "output_type": "stream",
     "text": [
      "c:\\Users\\aniru\\Desktop\\projects\\AI Music Generator\\LSTMelody\\dataset.py:49: FutureWarning: You are using `torch.load` with `weights_only=False` (the current default value), which uses the default pickle module implicitly. It is possible to construct malicious pickle data which will execute arbitrary code during unpickling (See https://github.com/pytorch/pytorch/blob/main/SECURITY.md#untrusted-models for more details). In a future release, the default value for `weights_only` will be flipped to `True`. This limits the functions that could be executed during unpickling. Arbitrary objects will no longer be allowed to be loaded via this mode unless they are explicitly allowlisted by the user via `torch.serialization.add_safe_globals`. We recommend you start setting `weights_only=True` for any use case where you don't have full control of the loaded file. Please open an issue on GitHub for any issues related to this experimental feature.\n",
      "  shard = torch.load(shard_path)\n"
     ]
    },
    {
     "name": "stdout",
     "output_type": "stream",
     "text": [
      "Epoch 1/10, Loss: 12.0713\n"
     ]
    },
    {
     "data": {
      "application/vnd.jupyter.widget-view+json": {
       "model_id": "89b5527c901e4ec8bc942a27bd836a2a",
       "version_major": 2,
       "version_minor": 0
      },
      "text/plain": [
       "  0%|          | 0/1940 [00:00<?, ?it/s]"
      ]
     },
     "metadata": {},
     "output_type": "display_data"
    },
    {
     "name": "stdout",
     "output_type": "stream",
     "text": [
      "Epoch 2/10, Loss: 11.6553\n"
     ]
    },
    {
     "data": {
      "application/vnd.jupyter.widget-view+json": {
       "model_id": "faee31370e9349518fbd0cb224b249bf",
       "version_major": 2,
       "version_minor": 0
      },
      "text/plain": [
       "  0%|          | 0/1940 [00:00<?, ?it/s]"
      ]
     },
     "metadata": {},
     "output_type": "display_data"
    },
    {
     "name": "stdout",
     "output_type": "stream",
     "text": [
      "Epoch 3/10, Loss: 11.5188\n"
     ]
    },
    {
     "data": {
      "application/vnd.jupyter.widget-view+json": {
       "model_id": "e2bf9c0b77de447dbc29130a8303f5e2",
       "version_major": 2,
       "version_minor": 0
      },
      "text/plain": [
       "  0%|          | 0/1940 [00:00<?, ?it/s]"
      ]
     },
     "metadata": {},
     "output_type": "display_data"
    },
    {
     "name": "stdout",
     "output_type": "stream",
     "text": [
      "Epoch 4/10, Loss: 11.2276\n"
     ]
    },
    {
     "data": {
      "application/vnd.jupyter.widget-view+json": {
       "model_id": "22a239aab7324dbd8960f974b3192c1a",
       "version_major": 2,
       "version_minor": 0
      },
      "text/plain": [
       "  0%|          | 0/1940 [00:00<?, ?it/s]"
      ]
     },
     "metadata": {},
     "output_type": "display_data"
    },
    {
     "name": "stdout",
     "output_type": "stream",
     "text": [
      "Epoch 5/10, Loss: 11.1358\n"
     ]
    },
    {
     "data": {
      "application/vnd.jupyter.widget-view+json": {
       "model_id": "7836d098b6d646fb9729b4ffd24e89d2",
       "version_major": 2,
       "version_minor": 0
      },
      "text/plain": [
       "  0%|          | 0/1940 [00:00<?, ?it/s]"
      ]
     },
     "metadata": {},
     "output_type": "display_data"
    },
    {
     "name": "stdout",
     "output_type": "stream",
     "text": [
      "Epoch 6/10, Loss: 10.9948\n"
     ]
    },
    {
     "data": {
      "application/vnd.jupyter.widget-view+json": {
       "model_id": "b75f0385cbd24c369406b62224dd49d8",
       "version_major": 2,
       "version_minor": 0
      },
      "text/plain": [
       "  0%|          | 0/1940 [00:00<?, ?it/s]"
      ]
     },
     "metadata": {},
     "output_type": "display_data"
    },
    {
     "name": "stdout",
     "output_type": "stream",
     "text": [
      "Epoch 7/10, Loss: 10.7251\n"
     ]
    },
    {
     "data": {
      "application/vnd.jupyter.widget-view+json": {
       "model_id": "4d7c5d50c57d4b23994314c455242d05",
       "version_major": 2,
       "version_minor": 0
      },
      "text/plain": [
       "  0%|          | 0/1940 [00:00<?, ?it/s]"
      ]
     },
     "metadata": {},
     "output_type": "display_data"
    },
    {
     "name": "stdout",
     "output_type": "stream",
     "text": [
      "Epoch 8/10, Loss: 10.4776\n"
     ]
    },
    {
     "data": {
      "application/vnd.jupyter.widget-view+json": {
       "model_id": "84cf3c17d983406c9c37730469eadfa4",
       "version_major": 2,
       "version_minor": 0
      },
      "text/plain": [
       "  0%|          | 0/1940 [00:00<?, ?it/s]"
      ]
     },
     "metadata": {},
     "output_type": "display_data"
    },
    {
     "name": "stdout",
     "output_type": "stream",
     "text": [
      "Epoch 9/10, Loss: 10.3087\n"
     ]
    },
    {
     "data": {
      "application/vnd.jupyter.widget-view+json": {
       "model_id": "311273eb89c1477b99b581466af727ba",
       "version_major": 2,
       "version_minor": 0
      },
      "text/plain": [
       "  0%|          | 0/1940 [00:00<?, ?it/s]"
      ]
     },
     "metadata": {},
     "output_type": "display_data"
    },
    {
     "name": "stdout",
     "output_type": "stream",
     "text": [
      "Epoch 10/10, Loss: 10.3964\n"
     ]
    }
   ],
   "source": [
    "model = MusicGen(meta)\n",
    "optimizer = torch.optim.Adam(model.parameters(), lr=0.0003)\n",
    "model.to(device)\n",
    "\n",
    "num_epochs = 10\n",
    "for epoch in range(num_epochs):\n",
    "    model.train()\n",
    "    total_loss = 0\n",
    "    for batch_idx, (sequences, targets) in tqdm(enumerate(dataloader), total=len(dataloader)):\n",
    "        # batch size, 128, 5\n",
    "        sequences = sequences.to(device)\n",
    "        # batch size, 5\n",
    "        targets = targets.to(device)\n",
    "        \n",
    "        optimizer.zero_grad()\n",
    "\n",
    "        # Predicting without hidden for default hidden = None\n",
    "        out, hidden = model(sequences)\n",
    "        loss = custom_loss_fn(out, targets)\n",
    "        loss.backward()\n",
    "        optimizer.step()\n",
    "        #print(loss.item())\n",
    "        total_loss += loss.item()\n",
    "    torch.save(model.state_dict(), f\"trained_weights/model13feb-{epoch}\")    \n",
    "    avg_loss = total_loss / len(dataloader)\n",
    "    print(f\"Epoch {epoch+1}/{num_epochs}, Loss: {avg_loss:.4f}\")"
   ]
  },
  {
   "cell_type": "code",
   "execution_count": null,
   "metadata": {},
   "outputs": [],
   "source": [
    "torch.save(model.state_dict(), f\"trained_weights/model12feb-model\")"
   ]
  },
  {
   "cell_type": "code",
   "execution_count": 9,
   "metadata": {},
   "outputs": [],
   "source": [
    "torch.save(optimizer.state_dict(), f\"trained_weights/model12feb-optimizer\")"
   ]
  }
 ],
 "metadata": {
  "kernelspec": {
   "display_name": "Python 3",
   "language": "python",
   "name": "python3"
  },
  "language_info": {
   "codemirror_mode": {
    "name": "ipython",
    "version": 3
   },
   "file_extension": ".py",
   "mimetype": "text/x-python",
   "name": "python",
   "nbconvert_exporter": "python",
   "pygments_lexer": "ipython3",
   "version": "3.12.8"
  }
 },
 "nbformat": 4,
 "nbformat_minor": 2
}
