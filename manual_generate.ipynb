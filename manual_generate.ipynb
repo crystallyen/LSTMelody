{
 "cells": [
  {
   "cell_type": "code",
   "execution_count": 1,
   "metadata": {},
   "outputs": [
    {
     "name": "stdout",
     "output_type": "stream",
     "text": [
      "cuda\n"
     ]
    },
    {
     "name": "stderr",
     "output_type": "stream",
     "text": [
      "C:\\Users\\aniru\\AppData\\Local\\Temp\\ipykernel_8636\\4079401975.py:26: FutureWarning: You are using `torch.load` with `weights_only=False` (the current default value), which uses the default pickle module implicitly. It is possible to construct malicious pickle data which will execute arbitrary code during unpickling (See https://github.com/pytorch/pytorch/blob/main/SECURITY.md#untrusted-models for more details). In a future release, the default value for `weights_only` will be flipped to `True`. This limits the functions that could be executed during unpickling. Arbitrary objects will no longer be allowed to be loaded via this mode unless they are explicitly allowlisted by the user via `torch.serialization.add_safe_globals`. We recommend you start setting `weights_only=True` for any use case where you don't have full control of the loaded file. Please open an issue on GitHub for any issues related to this experimental feature.\n",
      "  meta = torch.load(\"data/processed/LMD-clean-100/LMD-clean-100_meta.pth\")\n"
     ]
    },
    {
     "data": {
      "text/plain": [
       "MusicGen(\n",
       "  (lstm): LSTM(5, 512, batch_first=True)\n",
       "  (regular_pitch_head): Linear(in_features=512, out_features=128, bias=True)\n",
       "  (drum_pitch_head): Linear(in_features=512, out_features=47, bias=True)\n",
       "  (velocity_head): Linear(in_features=512, out_features=128, bias=True)\n",
       "  (step_head): Linear(in_features=512, out_features=1, bias=True)\n",
       "  (duration_head): Linear(in_features=512, out_features=1, bias=True)\n",
       "  (instrument_head): Linear(in_features=512, out_features=4, bias=True)\n",
       ")"
      ]
     },
     "execution_count": 1,
     "metadata": {},
     "output_type": "execute_result"
    }
   ],
   "source": [
    "import torch\n",
    "import torch.nn.functional as F\n",
    "import numpy as np\n",
    "from tqdm.auto import tqdm\n",
    "import pretty_midi\n",
    "import sys\n",
    "np.set_printoptions(threshold=sys.maxsize)\n",
    "\n",
    "min_drum_pitch = 35\n",
    "max_drum_pitch = 81\n",
    "n_drum_pitches = max_drum_pitch - min_drum_pitch + 1\n",
    "\n",
    "min_pitch = 0\n",
    "max_pitch = 127\n",
    "n_pitches = max_pitch - min_pitch + 1\n",
    "\n",
    "sequence_length = 128\n",
    "n_velocities = 128\n",
    "n_instruments = 4\n",
    "\n",
    "device = torch.device(\"cuda\" if torch.cuda.is_available() else \"cpu\")\n",
    "print(device)\n",
    "\n",
    "from model import MusicGen\n",
    "from inference import generate, tensor_to_midi\n",
    "meta = torch.load(\"data/processed/LMD-clean-100/LMD-clean-100_meta.pth\")\n",
    "model = MusicGen(meta)\n",
    "model.load_state_dict(torch.load('trained_weights/model12feb-model', weights_only=True))\n",
    "model.to(device)"
   ]
  },
  {
   "cell_type": "code",
   "execution_count": 2,
   "metadata": {},
   "outputs": [
    {
     "name": "stdout",
     "output_type": "stream",
     "text": [
      "torch.Size([128, 5])\n"
     ]
    }
   ],
   "source": [
    "loaded_data = torch.load('data/processed/LMD-clean-100/LMD-clean-100_0.pth', weights_only=True)[0][0:128]\n",
    "print(loaded_data.shape)"
   ]
  },
  {
   "cell_type": "code",
   "execution_count": null,
   "metadata": {},
   "outputs": [],
   "source": [
    "# generate seeds\n",
    "seeds = []\n",
    "for i in range(10):\n",
    "  seed = torch.load('data/processed/LMD-clean-100/LMD-clean-100_0.pth', weights_only=True)[i][0:128]\n",
    "  seeds.append(seed)\n",
    "\n",
    "torch.save(seeds, f'seeds.pth')"
   ]
  },
  {
   "cell_type": "code",
   "execution_count": 3,
   "metadata": {},
   "outputs": [
    {
     "data": {
      "application/vnd.jupyter.widget-view+json": {
       "model_id": "f36af552cf3a4977a88a0292d46c9721",
       "version_major": 2,
       "version_minor": 0
      },
      "text/plain": [
       "  0%|          | 0/1000 [00:00<?, ?it/s]"
      ]
     },
     "metadata": {},
     "output_type": "display_data"
    }
   ],
   "source": [
    "#seed_sequence = torch.zeros((1, sequence_length, 5))\n",
    "generated_notes = generate(model, loaded_data.unsqueeze(0), steps=1000, device=device)"
   ]
  },
  {
   "cell_type": "code",
   "execution_count": 4,
   "metadata": {},
   "outputs": [],
   "source": [
    "generated_midi = tensor_to_midi(generated_notes)\n",
    "generated_midi.write(\"generated/v1/multi_instrument_v1_sample6.midi\")"
   ]
  }
 ],
 "metadata": {
  "kernelspec": {
   "display_name": "pytorch-env",
   "language": "python",
   "name": "python3"
  },
  "language_info": {
   "codemirror_mode": {
    "name": "ipython",
    "version": 3
   },
   "file_extension": ".py",
   "mimetype": "text/x-python",
   "name": "python",
   "nbconvert_exporter": "python",
   "pygments_lexer": "ipython3",
   "version": "3.12.8"
  }
 },
 "nbformat": 4,
 "nbformat_minor": 2
}
